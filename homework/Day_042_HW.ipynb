{
 "cells": [
  {
   "cell_type": "markdown",
   "metadata": {},
   "source": [
    "## [作業重點]\n",
    "目前你應該已經要很清楚資料集中，資料的型態是什麼樣子囉！包含特徵 (features) 與標籤 (labels)。因此要記得未來不管什麼專案，必須要把資料清理成相同的格式，才能送進模型訓練。\n",
    "今天的作業開始踏入決策樹這個非常重要的模型，請務必確保你理解模型中每個超參數的意思，並試著調整看看，對最終預測結果的影響為何"
   ]
  },
  {
   "cell_type": "markdown",
   "metadata": {},
   "source": [
    "## 作業\n",
    "\n",
    "1. 試著調整 DecisionTreeClassifier(...) 中的參數，並觀察是否會改變結果？\n",
    "2. 改用其他資料集 (boston, wine)，並與回歸模型的結果進行比較"
   ]
  },
  {
   "cell_type": "code",
   "execution_count": 2,
   "metadata": {},
   "outputs": [],
   "source": [
    "import numpy as np\n",
    "import pandas as pd\n",
    "import seaborn as sns\n",
    "import matplotlib.pyplot as plt\n",
    "from sklearn.datasets import load_iris, load_linnerud\n",
    "from sklearn.tree import DecisionTreeRegressor, DecisionTreeClassifier\n",
    "from sklearn.model_selection import train_test_split\n",
    "from sklearn.metrics import mean_squared_error, r2_score, accuracy_score\n",
    "\n",
    "import warnings\n",
    "warnings.filterwarnings('ignore')\n",
    "\n",
    "iris = load_iris()\n",
    "linnerud = load_linnerud()"
   ]
  },
  {
   "cell_type": "code",
   "execution_count": 7,
   "metadata": {},
   "outputs": [
    {
     "name": "stdout",
     "output_type": "stream",
     "text": [
      "Accuracy1:  0.95\n",
      "Accuracy2:  0.925\n",
      "Accuracy3:  0.95\n",
      "Accuracy4:  0.925\n"
     ]
    }
   ],
   "source": [
    "# iris\n",
    "\n",
    "x = pd.DataFrame(iris['data'], columns = iris['feature_names'])\n",
    "y = pd.DataFrame(iris['target'], columns = ['target_names'])\n",
    "\n",
    "x_train, x_test, y_train, y_test = train_test_split(x, y, test_size = 40)\n",
    "\n",
    "dtc1 = DecisionTreeClassifier(random_state = 4)\n",
    "dtc2 = DecisionTreeClassifier(max_depth = 2, random_state = 4)\n",
    "dtc3 = DecisionTreeClassifier(min_samples_split = 3, random_state = 4)\n",
    "dtc4 = DecisionTreeClassifier(min_samples_leaf = 6, random_state = 4)\n",
    "\n",
    "dtc1.fit(x_train, y_train)\n",
    "dtc2.fit(x_train, y_train)\n",
    "dtc3.fit(x_train, y_train)\n",
    "dtc4.fit(x_train, y_train)\n",
    "\n",
    "y_pred1 = dtc1.predict(x_test)\n",
    "y_pred2 = dtc2.predict(x_test)\n",
    "y_pred3 = dtc3.predict(x_test)\n",
    "y_pred4 = dtc4.predict(x_test)\n",
    "\n",
    "acc1 = accuracy_score(y_test, y_pred1)\n",
    "acc2 = accuracy_score(y_test, y_pred2)\n",
    "acc3 = accuracy_score(y_test, y_pred3)\n",
    "acc4 = accuracy_score(y_test, y_pred4)\n",
    "print(\"Accuracy1: \", acc1)\n",
    "print(\"Accuracy2: \", acc2)\n",
    "print(\"Accuracy3: \", acc3)\n",
    "print(\"Accuracy4: \", acc4)"
   ]
  },
  {
   "cell_type": "code",
   "execution_count": 11,
   "metadata": {},
   "outputs": [
    {
     "name": "stdout",
     "output_type": "stream",
     "text": [
      "Mean squared error 1: 1.27\n",
      "Mean squared error 2: 1.00\n",
      "Mean squared error 3: 1.24\n",
      "Mean squared error 4: 0.83\n"
     ]
    }
   ],
   "source": [
    "# linnerud \n",
    "\n",
    "x1 = pd.DataFrame(linnerud['data'], columns = linnerud['feature_names'])\n",
    "y1 = pd.DataFrame(linnerud['target'], columns = linnerud['target_names'])\n",
    "\n",
    "y1['fat_p'] = ((y1['Waist']*2.54*0.74 - y1['Weight']*0.45*0.082 - 34) / y1['Weight']*0.453) *100\n",
    "x1_train, x1_test, y1_train, y1_test = train_test_split(x1, y1, test_size = 10)\n",
    "\n",
    "dtr1 = DecisionTreeRegressor(random_state = 4)\n",
    "dtr2 = DecisionTreeRegressor(max_depth = 2, random_state = 4)\n",
    "dtr3 = DecisionTreeRegressor(min_samples_split = 3, random_state = 4)\n",
    "dtr4 = DecisionTreeRegressor(min_samples_leaf = 6, random_state = 4)\n",
    "\n",
    "dtr1.fit(x1_train, y1_train['fat_p'])\n",
    "dtr2.fit(x1_train, y1_train['fat_p'])\n",
    "dtr3.fit(x1_train, y1_train['fat_p'])\n",
    "dtr4.fit(x1_train, y1_train['fat_p'])\n",
    "\n",
    "y1_pred1 = dtr1.predict(x1_test)\n",
    "y1_pred2 = dtr2.predict(x1_test)\n",
    "y1_pred3 = dtr3.predict(x1_test)\n",
    "y1_pred4 = dtr4.predict(x1_test)\n",
    "\n",
    "print(\"Mean squared error 1: %.2f\"\n",
    "      % mean_squared_error(y1_test['fat_p'], y1_pred1))\n",
    "print(\"Mean squared error 2: %.2f\"\n",
    "      % mean_squared_error(y1_test['fat_p'], y1_pred2))\n",
    "print(\"Mean squared error 3: %.2f\"\n",
    "      % mean_squared_error(y1_test['fat_p'], y1_pred3))\n",
    "print(\"Mean squared error 4: %.2f\"\n",
    "      % mean_squared_error(y1_test['fat_p'], y1_pred4))"
   ]
  },
  {
   "cell_type": "code",
   "execution_count": null,
   "metadata": {},
   "outputs": [],
   "source": []
  }
 ],
 "metadata": {
  "kernelspec": {
   "display_name": "Python 3 (ipykernel)",
   "language": "python",
   "name": "python3"
  },
  "language_info": {
   "codemirror_mode": {
    "name": "ipython",
    "version": 3
   },
   "file_extension": ".py",
   "mimetype": "text/x-python",
   "name": "python",
   "nbconvert_exporter": "python",
   "pygments_lexer": "ipython3",
   "version": "3.7.0b4"
  }
 },
 "nbformat": 4,
 "nbformat_minor": 2
}
