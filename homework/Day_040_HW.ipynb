{
 "cells": [
  {
   "cell_type": "markdown",
   "metadata": {},
   "source": [
    "## [作業重點]\n",
    "使用 Sklearn 中的 Lasso, Ridge 模型，來訓練各種資料集，務必了解送進去模型訓練的**資料型態**為何，也請了解模型中各項參數的意義。\n",
    "\n",
    "機器學習的模型非常多種，但要訓練的資料多半有固定的格式，確保你了解訓練資料的格式為何，這樣在應用新模型時，就能夠最快的上手開始訓練！"
   ]
  },
  {
   "cell_type": "markdown",
   "metadata": {},
   "source": [
    "## 練習時間\n",
    "試著使用 sklearn datasets 的其他資料集 (boston, ...)，來訓練自己的線性迴歸模型，並加上適當的正則化來觀察訓練情形。"
   ]
  },
  {
   "cell_type": "code",
   "execution_count": 5,
   "metadata": {},
   "outputs": [],
   "source": [
    "import numpy as np\n",
    "import pandas as pd\n",
    "import seaborn as sns\n",
    "import matplotlib.pyplot as plt\n",
    "from sklearn.datasets import load_iris, load_linnerud\n",
    "from sklearn.linear_model import LinearRegression, LogisticRegression, Lasso, Ridge\n",
    "from sklearn.model_selection import train_test_split\n",
    "from sklearn.metrics import mean_squared_error, r2_score, accuracy_score\n",
    "\n",
    "import warnings\n",
    "warnings.filterwarnings('ignore')\n",
    "\n",
    "iris = load_iris()\n",
    "linnerud = load_linnerud()"
   ]
  },
  {
   "cell_type": "code",
   "execution_count": 2,
   "metadata": {},
   "outputs": [
    {
     "name": "stdout",
     "output_type": "stream",
     "text": [
      "Mean squared error: 0.03\n",
      "Accuracy:  0.975\n"
     ]
    }
   ],
   "source": [
    "# iris - LogisticRegression\n",
    "\n",
    "x = pd.DataFrame(iris['data'], columns = iris['feature_names'])\n",
    "y = pd.DataFrame(iris['target'], columns = ['target_names'])\n",
    "\n",
    "x_train, x_test, y_train, y_test = train_test_split(x, y, test_size = 40)\n",
    "\n",
    "log_regr = LogisticRegression()\n",
    "log_regr.fit(x_train, y_train)\n",
    "\n",
    "y_pred = log_regr.predict(x_test)\n",
    "\n",
    "print(\"Mean squared error: %.2f\"\n",
    "      % mean_squared_error(y_test, y_pred))\n",
    "acc = accuracy_score(y_test, y_pred)\n",
    "print(\"Accuracy: \", acc)"
   ]
  },
  {
   "cell_type": "code",
   "execution_count": 3,
   "metadata": {},
   "outputs": [
    {
     "name": "stdout",
     "output_type": "stream",
     "text": [
      "Coefficients: \n",
      " [-0.03025047 -0.00696001  0.00795697]\n",
      "Mean squared error: 0.39\n"
     ]
    }
   ],
   "source": [
    "# linnerud - LinearRegression\n",
    "\n",
    "x1 = pd.DataFrame(linnerud['data'], columns = linnerud['feature_names'])\n",
    "y1 = pd.DataFrame(linnerud['target'], columns = linnerud['target_names'])\n",
    "\n",
    "y1['fat_p'] = ((y1['Waist']*2.54*0.74 - y1['Weight']*0.45*0.082 - 34) / y1['Weight']*0.453) *100\n",
    "x1_train, x1_test, y1_train, y1_test = train_test_split(x1, y1, test_size = 10)\n",
    "\n",
    "regr = LinearRegression()\n",
    "regr.fit(x1_train, y1_train['fat_p'])\n",
    "\n",
    "y1_pred = regr.predict(x1_test)\n",
    "\n",
    "print('Coefficients: \\n', regr.coef_)\n",
    "print(\"Mean squared error: %.2f\"\n",
    "      % mean_squared_error(y1_test['fat_p'], y1_pred))"
   ]
  },
  {
   "cell_type": "code",
   "execution_count": 10,
   "metadata": {},
   "outputs": [
    {
     "name": "stdout",
     "output_type": "stream",
     "text": [
      "Mean squared error: 0.49\n",
      "Mean squared error: 0.04\n"
     ]
    }
   ],
   "source": [
    "# iris - Lasso\n",
    "\n",
    "lasso = Lasso()\n",
    "ridge = Ridge()\n",
    "\n",
    "lasso.fit(x_train, y_train)\n",
    "ridge.fit(x_train, y_train)\n",
    "\n",
    "y_pred_l = lasso.predict(x_test)\n",
    "y_pred_r = ridge.predict(x_test)\n",
    "\n",
    "print(\"Mean squared error: %.2f\"\n",
    "      % mean_squared_error(y_test, y_pred_l))\n",
    "print(\"Mean squared error: %.2f\"\n",
    "      % mean_squared_error(y_test, y_pred_r))"
   ]
  },
  {
   "cell_type": "code",
   "execution_count": 7,
   "metadata": {},
   "outputs": [
    {
     "name": "stdout",
     "output_type": "stream",
     "text": [
      "Coefficients: \n",
      " [-0.         -0.00776943  0.0060027 ]\n",
      "Mean squared error: 0.42\n"
     ]
    }
   ],
   "source": [
    "# linnerud - Lasso\n",
    "\n",
    "lasso.fit(x1_train, y1_train['fat_p'])\n",
    "\n",
    "y1_pred = lasso.predict(x1_test)\n",
    "\n",
    "print('Coefficients: \\n', lasso.coef_)\n",
    "print(\"Mean squared error: %.2f\"\n",
    "      % mean_squared_error(y1_test['fat_p'], y1_pred))"
   ]
  },
  {
   "cell_type": "code",
   "execution_count": 8,
   "metadata": {},
   "outputs": [
    {
     "name": "stdout",
     "output_type": "stream",
     "text": [
      "Coefficients: \n",
      " [-0.02999792 -0.0069816   0.0079793 ]\n",
      "Mean squared error: 0.39\n"
     ]
    }
   ],
   "source": [
    "# linnerud - Ridge\n",
    "\n",
    "ridge = Ridge()\n",
    "\n",
    "ridge.fit(x1_train, y1_train['fat_p'])\n",
    "\n",
    "y1_pred = ridge.predict(x1_test)\n",
    "\n",
    "print('Coefficients: \\n', ridge.coef_)\n",
    "print(\"Mean squared error: %.2f\"\n",
    "      % mean_squared_error(y1_test['fat_p'], y1_pred))"
   ]
  },
  {
   "cell_type": "code",
   "execution_count": null,
   "metadata": {},
   "outputs": [],
   "source": []
  }
 ],
 "metadata": {
  "kernelspec": {
   "display_name": "Python 3 (ipykernel)",
   "language": "python",
   "name": "python3"
  },
  "language_info": {
   "codemirror_mode": {
    "name": "ipython",
    "version": 3
   },
   "file_extension": ".py",
   "mimetype": "text/x-python",
   "name": "python",
   "nbconvert_exporter": "python",
   "pygments_lexer": "ipython3",
   "version": "3.7.0b4"
  }
 },
 "nbformat": 4,
 "nbformat_minor": 2
}
