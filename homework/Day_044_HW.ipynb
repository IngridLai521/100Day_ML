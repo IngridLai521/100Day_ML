{
 "cells": [
  {
   "cell_type": "markdown",
   "metadata": {},
   "source": [
    "## [作業重點]\n",
    "確保你了解隨機森林模型中每個超參數的意義，並觀察調整超參數對結果的影響"
   ]
  },
  {
   "cell_type": "markdown",
   "metadata": {},
   "source": [
    "## 作業\n",
    "\n",
    "1. 試著調整 RandomForestClassifier(...) 中的參數，並觀察是否會改變結果？\n",
    "2. 改用其他資料集 (boston, wine)，並與回歸模型與決策樹的結果進行比較"
   ]
  },
  {
   "cell_type": "code",
   "execution_count": 2,
   "metadata": {},
   "outputs": [],
   "source": [
    "import numpy as np\n",
    "import pandas as pd\n",
    "import seaborn as sns\n",
    "import matplotlib.pyplot as plt\n",
    "from sklearn.datasets import load_iris, load_linnerud\n",
    "from sklearn.ensemble import RandomForestClassifier, RandomForestRegressor\n",
    "from sklearn.model_selection import train_test_split\n",
    "from sklearn.metrics import mean_squared_error, r2_score, accuracy_score\n",
    "\n",
    "import warnings\n",
    "warnings.filterwarnings('ignore')\n",
    "\n",
    "iris = load_iris()\n",
    "linnerud = load_linnerud()"
   ]
  },
  {
   "cell_type": "code",
   "execution_count": 5,
   "metadata": {},
   "outputs": [
    {
     "name": "stdout",
     "output_type": "stream",
     "text": [
      "Accuracy1:  0.925\n",
      "Accuracy2:  0.95\n",
      "Accuracy3:  0.95\n",
      "Accuracy4:  0.975\n"
     ]
    }
   ],
   "source": [
    "# iris\n",
    "\n",
    "x = pd.DataFrame(iris['data'], columns = iris['feature_names'])\n",
    "y = pd.DataFrame(iris['target'], columns = ['target_names'])\n",
    "\n",
    "x_train, x_test, y_train, y_test = train_test_split(x, y, test_size = 40)\n",
    "\n",
    "rfc1 = RandomForestClassifier(n_estimators = 10)\n",
    "rfc2 = RandomForestClassifier(max_depth = 5, n_estimators = 20)\n",
    "rfc3 = RandomForestClassifier(min_samples_split = 3, n_estimators = 20)\n",
    "rfc4 = RandomForestClassifier(max_features = 'auto', n_estimators = 20)\n",
    "\n",
    "rfc1.fit(x_train, y_train)\n",
    "rfc2.fit(x_train, y_train)\n",
    "rfc3.fit(x_train, y_train)\n",
    "rfc4.fit(x_train, y_train)\n",
    "\n",
    "y_pred1 = rfc1.predict(x_test)\n",
    "y_pred2 = rfc2.predict(x_test)\n",
    "y_pred3 = rfc3.predict(x_test)\n",
    "y_pred4 = rfc4.predict(x_test)\n",
    "\n",
    "acc1 = accuracy_score(y_test, y_pred1)\n",
    "acc2 = accuracy_score(y_test, y_pred2)\n",
    "acc3 = accuracy_score(y_test, y_pred3)\n",
    "acc4 = accuracy_score(y_test, y_pred4)\n",
    "print(\"Accuracy1: \", acc1)\n",
    "print(\"Accuracy2: \", acc2)\n",
    "print(\"Accuracy3: \", acc3)\n",
    "print(\"Accuracy4: \", acc4)"
   ]
  },
  {
   "cell_type": "code",
   "execution_count": 28,
   "metadata": {},
   "outputs": [
    {
     "name": "stdout",
     "output_type": "stream",
     "text": [
      "Mean squared error 1: 0.25\n",
      "Mean squared error 2: 0.18\n",
      "Mean squared error 3: 0.20\n",
      "Mean squared error 4: 0.17\n"
     ]
    }
   ],
   "source": [
    "# linnerud \n",
    "\n",
    "x1 = pd.DataFrame(linnerud['data'], columns = linnerud['feature_names'])\n",
    "y1 = pd.DataFrame(linnerud['target'], columns = linnerud['target_names'])\n",
    "\n",
    "y1['fat_p'] = ((y1['Waist']*2.54*0.74 - y1['Weight']*0.45*0.082 - 34) / y1['Weight']*0.453) *100\n",
    "x1_train, x1_test, y1_train, y1_test = train_test_split(x1, y1, test_size = 10)\n",
    "\n",
    "rfr1 = RandomForestRegressor(n_estimators = 20)\n",
    "rfr2 = RandomForestRegressor(max_depth = 10, n_estimators = 30)\n",
    "rfr3 = RandomForestRegressor(min_samples_split = 12, n_estimators = 20)\n",
    "rfr4 = RandomForestRegressor(max_features = 'auto', n_estimators = 25)\n",
    "\n",
    "rfr1.fit(x1_train, y1_train['fat_p'])\n",
    "rfr2.fit(x1_train, y1_train['fat_p'])\n",
    "rfr3.fit(x1_train, y1_train['fat_p'])\n",
    "rfr4.fit(x1_train, y1_train['fat_p'])\n",
    "\n",
    "y1_pred1 = rfr1.predict(x1_test)\n",
    "y1_pred2 = rfr2.predict(x1_test)\n",
    "y1_pred3 = rfr3.predict(x1_test)\n",
    "y1_pred4 = rfr4.predict(x1_test)\n",
    "\n",
    "print(\"Mean squared error 1: %.2f\"\n",
    "      % mean_squared_error(y1_test['fat_p'], y1_pred1))\n",
    "print(\"Mean squared error 2: %.2f\"\n",
    "      % mean_squared_error(y1_test['fat_p'], y1_pred2))\n",
    "print(\"Mean squared error 3: %.2f\"\n",
    "      % mean_squared_error(y1_test['fat_p'], y1_pred3))\n",
    "print(\"Mean squared error 4: %.2f\"\n",
    "      % mean_squared_error(y1_test['fat_p'], y1_pred4))"
   ]
  },
  {
   "cell_type": "code",
   "execution_count": null,
   "metadata": {},
   "outputs": [],
   "source": []
  }
 ],
 "metadata": {
  "kernelspec": {
   "display_name": "Python 3 (ipykernel)",
   "language": "python",
   "name": "python3"
  },
  "language_info": {
   "codemirror_mode": {
    "name": "ipython",
    "version": 3
   },
   "file_extension": ".py",
   "mimetype": "text/x-python",
   "name": "python",
   "nbconvert_exporter": "python",
   "pygments_lexer": "ipython3",
   "version": "3.7.0b4"
  }
 },
 "nbformat": 4,
 "nbformat_minor": 2
}
