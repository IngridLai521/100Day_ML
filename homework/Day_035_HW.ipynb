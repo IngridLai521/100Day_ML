{
 "cells": [
  {
   "cell_type": "markdown",
   "metadata": {},
   "source": [
    "## 練習時間\n",
    "相信大家對回歸問題及分類問題都有初步的了解。今天的作業希望大家搜尋有關 multi-label 的案例問題。下圖是電影 \"奇異博士\" 的分類。可以看到同時有 \"Action\", \"Adventure\", \"Fantasy\" 的類別存在，代表這是個多標籤的問題。 "
   ]
  },
  {
   "cell_type": "markdown",
   "metadata": {},
   "source": [
    "![image](https://cdn-images-1.medium.com/max/1000/1*r0gYXMSQf5VhdMyl2bRDyg.png)"
   ]
  },
  {
   "cell_type": "markdown",
   "metadata": {},
   "source": [
    "## 請搜尋目標為多標籤問題 (Multi-label) 的機器學習案例，了解其資料來源、目標以及評估指標為何\n",
    "## Hint: 服飾"
   ]
  },
  {
   "cell_type": "markdown",
   "metadata": {},
   "source": [
    "標題：機器學習進入Instagram，利用社交媒體揭秘服飾變化規律\n",
    "\n",
    "出處：https://www.pingwest.com/a/121336\n",
    "    \n",
    "摘要與節錄：\n",
    "\n",
    "    紐約康乃爾大學在Instagram的允許下，在特定時間與範圍內收集了1億張照片，他們使用人臉識別程序過濾不含人臉的照片，最後留下1500萬張僅有上半身的照片，包括其拍攝地點與時間，並訓練機器學習來識別圖片中的各種類型的服裝和配件。例如，算法學會了識別人們是否穿著夾克、戴著圍巾、領帶、眼鏡和帽子等。該算法還能夠識別顏色、領口風格、袖長；T卹、連衣裙或背心等服裝類別；條紋、格子等服裝圖案。最後，他們使用聚類算法將數據集中的照片聚類成簇，然後利用算法將具有相似視覺主題的圖像歸類，並追踪了這些簇在不同時間、地點的變化趨勢。"
   ]
  },
  {
   "cell_type": "markdown",
   "metadata": {},
   "source": [
    "※ 資料來源：Instagram\n",
    "\n",
    "※ 其中將辨識人們所配戴的飾品與衣裝顏色便會運用到Multi-label\n",
    "\n",
    "※ 研究目標為觀察各地人們衣裝變化，進而了解一地的文化特色"
   ]
  }
 ],
 "metadata": {
  "kernelspec": {
   "display_name": "Python 3 (ipykernel)",
   "language": "python",
   "name": "python3"
  },
  "language_info": {
   "codemirror_mode": {
    "name": "ipython",
    "version": 3
   },
   "file_extension": ".py",
   "mimetype": "text/x-python",
   "name": "python",
   "nbconvert_exporter": "python",
   "pygments_lexer": "ipython3",
   "version": "3.7.0b4"
  }
 },
 "nbformat": 4,
 "nbformat_minor": 2
}
