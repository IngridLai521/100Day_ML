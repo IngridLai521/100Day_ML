{
 "cells": [
  {
   "cell_type": "markdown",
   "metadata": {},
   "source": [
    "## [作業目標]\n",
    "了解機器學習適合應用的領域與範疇。"
   ]
  },
  {
   "cell_type": "markdown",
   "metadata": {},
   "source": [
    "## [作業重點]\n",
    "透過瞭解機器學習的運作方式，找出非常適用機器學習應用的領域及其原因"
   ]
  },
  {
   "cell_type": "markdown",
   "metadata": {},
   "source": [
    "## 作業\n",
    "請找出一個你認為機器學習可以發光發熱的領域並闡述原因? \n",
    "\n",
    "領域：計量經濟學\n",
    "\n",
    "原因：\n",
    "　　在傳統計量經濟學中，研究者常要花費不少心力處理資料的缺失和雜訊，而機器學習的應用或許可以改善這一過程，讓經濟領域的研究不那麼受資料限制，並加速資料分析的過程。此外，也曾聽聞機器學習可以用於資料生成，有助於修正可信度不是那麼高的資料，並將修正後的新資料再次投入計量模型中。簡而言之，依我一介初學者的淺見，機器學習可以補足與修正計量方法不足之處，兩者相輔相乘，或許能為學術研究帶來突破。"
   ]
  }
 ],
 "metadata": {
  "kernelspec": {
   "display_name": "Python 3 (ipykernel)",
   "language": "python",
   "name": "python3"
  },
  "language_info": {
   "codemirror_mode": {
    "name": "ipython",
    "version": 3
   },
   "file_extension": ".py",
   "mimetype": "text/x-python",
   "name": "python",
   "nbconvert_exporter": "python",
   "pygments_lexer": "ipython3",
   "version": "3.7.0b4"
  }
 },
 "nbformat": 4,
 "nbformat_minor": 2
}
