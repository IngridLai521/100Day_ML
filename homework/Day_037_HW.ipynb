{
 "cells": [
  {
   "cell_type": "markdown",
   "metadata": {},
   "source": [
    "## [作業重點]\n",
    "了解線性回歸的模型發展歷程，並了解優勢與劣勢，以及其使用情境"
   ]
  },
  {
   "cell_type": "markdown",
   "metadata": {},
   "source": [
    "## 作業"
   ]
  },
  {
   "cell_type": "markdown",
   "metadata": {},
   "source": [
    "請閱讀以下相關文獻，並回答以下問題\n",
    "\n",
    "[Linear Regression 詳細介紹](https://brohrer.mcknote.com/zh-Hant/how_machine_learning_works/how_linear_regression_works.html)\n",
    "\n",
    "[Logistics Regression 詳細介紹](https://medium.com/@yehjames/%E8%B3%87%E6%96%99%E5%88%86%E6%9E%90-%E6%A9%9F%E5%99%A8%E5%AD%B8%E7%BF%92-%E7%AC%AC3-3%E8%AC%9B-%E7%B7%9A%E6%80%A7%E5%88%86%E9%A1%9E-%E9%82%8F%E8%BC%AF%E6%96%AF%E5%9B%9E%E6%AD%B8-logistic-regression-%E4%BB%8B%E7%B4%B9-a1a5f47017e5)\n"
   ]
  },
  {
   "cell_type": "markdown",
   "metadata": {},
   "source": [
    "1. 線性回歸模型能夠準確預測非線性關係的資料集嗎?\n",
    "2. 回歸模型是否對資料分布有基本假設?\n"
   ]
  },
  {
   "cell_type": "markdown",
   "metadata": {},
   "source": [
    "1. \n",
    "線性模型不適用於非線性關係之資料，比方說linear probability model便是以線性模型估計非線性資料，雖然在計算上較為方便快速，但硬傷過多故一般不建議使用。\n",
    "\n",
    "2. \n",
    "對於線性迴歸模型，傳統上會有以下假設:\n",
    "   (A1) 參數為線性\n",
    "   (A2) 無完全線性重合\n",
    "   (A3) 隨機樣本\n",
    "   (A4) 外生性\n",
    "   (A5) 同質性\n",
    "   (A6) 解釋變數非隨機\n",
    "   (A7) 誤差項服從常態分配。\n",
    "   其中(A1)至(A5)為Gauss-Markov假設，目的在追求BLUE，再加上(A6)、(A7)則為古典(傳統)假設，目標為使小樣本下依然可推得估計式之確切分配。除了(A2)與(A4)是必要條件外，其他假設均可拋棄，在此僅針對(A7)進行回答，如上所述此項假設是為了推得估計式之確切分配才存在的，但在大樣本下依然可得到估計式之漸進分配，只要誤差項滿足外生性，即使其分配未知依然可以根據弱大數法則與CMT得到目標參數之一致性估計式，故(A7)的存在在大樣本下並非必要。"
   ]
  },
  {
   "cell_type": "code",
   "execution_count": null,
   "metadata": {},
   "outputs": [],
   "source": []
  }
 ],
 "metadata": {
  "kernelspec": {
   "display_name": "Python 3 (ipykernel)",
   "language": "python",
   "name": "python3"
  },
  "language_info": {
   "codemirror_mode": {
    "name": "ipython",
    "version": 3
   },
   "file_extension": ".py",
   "mimetype": "text/x-python",
   "name": "python",
   "nbconvert_exporter": "python",
   "pygments_lexer": "ipython3",
   "version": "3.7.0b4"
  }
 },
 "nbformat": 4,
 "nbformat_minor": 2
}
